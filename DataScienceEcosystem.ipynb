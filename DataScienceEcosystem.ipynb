{
 "cells": [
  {
   "cell_type": "markdown",
   "id": "2658bf4e-d77c-4f8a-9479-bf0bfdc21fe5",
   "metadata": {},
   "source": [
    "# Data Science Tools and Ecosystem"
   ]
  },
  {
   "cell_type": "markdown",
   "id": "ed0d84f7-5c07-4051-b168-cb4112800c19",
   "metadata": {},
   "source": [
    "In this notebook, Data Science Tools and Ecosystem are summarized."
   ]
  },
  {
   "cell_type": "markdown",
   "id": "161bfb49-f28e-4f51-8ac8-5898cd872c91",
   "metadata": {},
   "source": [
    "**Objectives:**\n",
    "- Commercial Tools for Data Science\n",
    "- Open Source Tools for Data Science\n",
    "- Languages of Data Science\n",
    "- Introduction to Python, SQL, R\n",
    "- Libraries for Data Science\n",
    "- Application Programming Interfaces (APIs)\n",
    "- Introduction to Jupyter\n",
    "- Introduction to GIT"
   ]
  },
  {
   "cell_type": "markdown",
   "id": "c0428298-04b6-4483-8915-e164bb1e649d",
   "metadata": {},
   "source": [
    "## Author\n",
    "Jure Pavlin"
   ]
  },
  {
   "cell_type": "markdown",
   "id": "653ec825-acce-419e-943b-42ede83de10a",
   "metadata": {},
   "source": [
    "Some of the popular languages that Data Scientists use are:"
   ]
  },
  {
   "cell_type": "markdown",
   "id": "54a7190a-b84f-4d52-8889-2c8263cf86ce",
   "metadata": {},
   "source": [
    "1. Python\n",
    "2. SQL\n",
    "3. R"
   ]
  },
  {
   "cell_type": "markdown",
   "id": "2903d4fb-310b-430a-a0f7-8c35653198e0",
   "metadata": {},
   "source": [
    "Some of the commonly used libraries used by Data Scientists include:"
   ]
  },
  {
   "cell_type": "markdown",
   "id": "60cbbd29-251a-4149-ab4f-239e6ac6b1af",
   "metadata": {},
   "source": [
    "1. NumPy\n",
    "2. PyTorch\n",
    "3. SciPy\n",
    "4. Pandas\n",
    "5. Matplotlib\n",
    "6. Keras\n",
    "7. SciKit-Learn"
   ]
  },
  {
   "cell_type": "markdown",
   "id": "7cd2e624-5266-4d30-bef4-6d14c7aa6170",
   "metadata": {},
   "source": [
    "|Data Science Tools|\n",
    "|------------------|\n",
    "|Jupyter Notebook|\n",
    "|JupyterLab|\n",
    "|PyCharm|\n",
    "|VsCode|\n",
    "|RStudio|"
   ]
  },
  {
   "cell_type": "markdown",
   "id": "f6f6f8bc-0619-4a18-80d8-fb68b043407e",
   "metadata": {},
   "source": [
    "### Below are a few examples of evaluating arithmetic expressions in Python"
   ]
  },
  {
   "cell_type": "code",
   "execution_count": 3,
   "id": "f846ba6c-6d1c-4086-897d-950e309db3c3",
   "metadata": {},
   "outputs": [
    {
     "data": {
      "text/plain": [
       "17"
      ]
     },
     "execution_count": 3,
     "metadata": {},
     "output_type": "execute_result"
    }
   ],
   "source": [
    "# This a simple arithmetic expression to mutiply then add integers\n",
    "(3*4)+5"
   ]
  },
  {
   "cell_type": "code",
   "execution_count": 4,
   "id": "e50d2d63-1608-40be-8581-b9b7f82e8fb9",
   "metadata": {},
   "outputs": [
    {
     "data": {
      "text/plain": [
       "3.3333333333333335"
      ]
     },
     "execution_count": 4,
     "metadata": {},
     "output_type": "execute_result"
    }
   ],
   "source": [
    "# This will convert 200 minutes to hours by diving by 60\n",
    "200/60"
   ]
  },
  {
   "cell_type": "code",
   "execution_count": null,
   "id": "d9f45b50-b73b-49ba-a012-38ca24b78cc4",
   "metadata": {},
   "outputs": [],
   "source": []
  }
 ],
 "metadata": {
  "kernelspec": {
   "display_name": "Python 3 (ipykernel)",
   "language": "python",
   "name": "python3"
  },
  "language_info": {
   "codemirror_mode": {
    "name": "ipython",
    "version": 3
   },
   "file_extension": ".py",
   "mimetype": "text/x-python",
   "name": "python",
   "nbconvert_exporter": "python",
   "pygments_lexer": "ipython3",
   "version": "3.10.10"
  }
 },
 "nbformat": 4,
 "nbformat_minor": 5
}
